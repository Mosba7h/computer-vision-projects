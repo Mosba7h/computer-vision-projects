{
  "metadata": {
    "kernelspec": {
      "display_name": "Python 3",
      "name": "python3"
    },
    "language_info": {
      "name": "python",
      "version": "3.10.13",
      "mimetype": "text/x-python",
      "codemirror_mode": {
        "name": "ipython",
        "version": 3
      },
      "pygments_lexer": "ipython3",
      "nbconvert_exporter": "python",
      "file_extension": ".py"
    },
    "kaggle": {
      "accelerator": "gpu",
      "dataSources": [],
      "dockerImageVersionId": 30683,
      "isInternetEnabled": true,
      "language": "python",
      "sourceType": "notebook",
      "isGpuEnabled": true
    },
    "colab": {
      "provenance": [],
      "gpuType": "V28"
    },
    "accelerator": "TPU"
  },
  "nbformat_minor": 0,
  "nbformat": 4,
  "cells": [
    {
      "cell_type": "markdown",
      "source": [
        "# imports"
      ],
      "metadata": {
        "id": "QrCyC1ZFOL_6"
      }
    },
    {
      "cell_type": "code",
      "source": [
        "import tensorflow as tf\n",
        "from tensorflow.keras.datasets import cifar10\n",
        "from tensorflow.keras.applications import MobileNet\n",
        "from tensorflow.keras.layers import Dense, GlobalAveragePooling2D\n",
        "from tensorflow.keras.models import Model\n",
        "from tensorflow.keras.optimizers import Adam\n",
        "from tensorflow.keras.utils import to_categorical\n",
        "from tensorflow.keras.preprocessing.image import img_to_array, array_to_img\n",
        "from tensorflow.image import resize\n",
        "\n"
      ],
      "metadata": {
        "_uuid": "8f2839f25d086af736a60e9eeb907d3b93b6e0e5",
        "_cell_guid": "b1076dfc-b9ad-4769-8c92-a6c4dae69d19",
        "execution": {
          "iopub.status.busy": "2024-04-14T19:51:35.386650Z",
          "iopub.execute_input": "2024-04-14T19:51:35.386922Z",
          "iopub.status.idle": "2024-04-14T19:51:47.049696Z",
          "shell.execute_reply.started": "2024-04-14T19:51:35.386896Z",
          "shell.execute_reply": "2024-04-14T19:51:47.048792Z"
        },
        "trusted": true,
        "id": "EsV4q5IeLTU_"
      },
      "execution_count": 1,
      "outputs": []
    },
    {
      "cell_type": "markdown",
      "source": [
        "# Load data"
      ],
      "metadata": {
        "id": "-btih63oORoX"
      }
    },
    {
      "cell_type": "code",
      "source": [
        "(x_train, y_train), (x_test, y_test) = cifar10.load_data()\n",
        "y_train = to_categorical(y_train, num_classes=10)\n",
        "y_test = to_categorical(y_test, num_classes=10)\n"
      ],
      "metadata": {
        "execution": {
          "iopub.status.busy": "2024-04-14T19:51:47.051400Z",
          "iopub.execute_input": "2024-04-14T19:51:47.052330Z",
          "iopub.status.idle": "2024-04-14T19:51:55.770794Z",
          "shell.execute_reply.started": "2024-04-14T19:51:47.052292Z",
          "shell.execute_reply": "2024-04-14T19:51:55.770004Z"
        },
        "trusted": true,
        "colab": {
          "base_uri": "https://localhost:8080/"
        },
        "id": "GkeItu2cLTVC",
        "outputId": "3b8d190d-7832-40f7-c2c8-cd03dc921795"
      },
      "execution_count": 2,
      "outputs": [
        {
          "output_type": "stream",
          "name": "stdout",
          "text": [
            "Downloading data from https://www.cs.toronto.edu/~kriz/cifar-10-python.tar.gz\n",
            "170498071/170498071 [==============================] - 2s 0us/step\n"
          ]
        }
      ]
    },
    {
      "cell_type": "code",
      "source": [],
      "metadata": {
        "id": "hS_Pr1rCODMx"
      },
      "execution_count": null,
      "outputs": []
    },
    {
      "cell_type": "markdown",
      "source": [
        "# **Model**"
      ],
      "metadata": {
        "id": "bcLB0kIbOXCb"
      }
    },
    {
      "cell_type": "code",
      "source": [
        "base_model = MobileNet(input_shape=(224, 224, 3), include_top=False, weights='imagenet')\n",
        "\n",
        "#  custom classification\n",
        "x = GlobalAveragePooling2D()(base_model.output)\n",
        "x = Dense(10, activation='softmax')(x)\n",
        "model = Model(inputs=base_model.input, outputs=x)\n",
        "\n"
      ],
      "metadata": {
        "trusted": true,
        "colab": {
          "base_uri": "https://localhost:8080/"
        },
        "id": "WyENedmELTVD",
        "outputId": "57960b9e-2acc-4807-f2f7-fff60df5d845"
      },
      "execution_count": 4,
      "outputs": [
        {
          "output_type": "stream",
          "name": "stdout",
          "text": [
            "Downloading data from https://storage.googleapis.com/tensorflow/keras-applications/mobilenet/mobilenet_1_0_224_tf_no_top.h5\n",
            "17225924/17225924 [==============================] - 0s 0us/step\n"
          ]
        }
      ]
    },
    {
      "cell_type": "markdown",
      "source": [
        "# **Compile AND Run**"
      ],
      "metadata": {
        "id": "3xcWgTwYOd_d"
      }
    },
    {
      "cell_type": "code",
      "source": [
        "model.compile(optimizer=Adam(), loss='categorical_crossentropy', metrics=['accuracy'])\n",
        "\n",
        "\n",
        "model.fit(x_train, y_train, batch_size=16, epochs=5, validation_data=(x_test, y_test))\n",
        "\n"
      ],
      "metadata": {
        "trusted": true,
        "colab": {
          "base_uri": "https://localhost:8080/"
        },
        "id": "AILFenH0LTVE",
        "outputId": "6b60e401-29d1-4feb-846c-182f510725f4"
      },
      "execution_count": 5,
      "outputs": [
        {
          "output_type": "stream",
          "name": "stdout",
          "text": [
            "Epoch 1/5\n",
            "3125/3125 [==============================] - 976s 310ms/step - loss: 0.6235 - accuracy: 0.7923 - val_loss: 0.4243 - val_accuracy: 0.8602\n",
            "Epoch 2/5\n",
            "3125/3125 [==============================] - 945s 302ms/step - loss: 0.3936 - accuracy: 0.8663 - val_loss: 0.4215 - val_accuracy: 0.8571\n",
            "Epoch 3/5\n",
            "3125/3125 [==============================] - 942s 301ms/step - loss: 0.2997 - accuracy: 0.8985 - val_loss: 0.3390 - val_accuracy: 0.8880\n",
            "Epoch 4/5\n",
            "3125/3125 [==============================] - 939s 301ms/step - loss: 0.2321 - accuracy: 0.9207 - val_loss: 0.3239 - val_accuracy: 0.8918\n",
            "Epoch 5/5\n",
            "3125/3125 [==============================] - 951s 304ms/step - loss: 0.1866 - accuracy: 0.9366 - val_loss: 0.3090 - val_accuracy: 0.9032\n"
          ]
        },
        {
          "output_type": "execute_result",
          "data": {
            "text/plain": [
              "<keras.src.callbacks.History at 0x7d99a267fac0>"
            ]
          },
          "metadata": {},
          "execution_count": 5
        }
      ]
    },
    {
      "cell_type": "code",
      "source": [
        "# Add 2 epochs\n",
        "model.fit(x_train, y_train, batch_size=16, epochs=2, validation_data=(x_test, y_test))\n"
      ],
      "metadata": {
        "colab": {
          "base_uri": "https://localhost:8080/"
        },
        "id": "c9tYQ64tfXMy",
        "outputId": "8a666637-f18c-446a-8c3b-a1fc738d9746"
      },
      "execution_count": null,
      "outputs": [
        {
          "output_type": "stream",
          "name": "stdout",
          "text": [
            "Epoch 1/2\n",
            "3125/3125 [==============================] - 934s 299ms/step - loss: 0.1476 - accuracy: 0.9492 - val_loss: 0.3007 - val_accuracy: 0.9023\n",
            "Epoch 2/2\n",
            " 904/3125 [=======>......................] - ETA: 10:45 - loss: 0.1036 - accuracy: 0.9623"
          ]
        }
      ]
    },
    {
      "cell_type": "markdown",
      "source": [
        "# Evaluate the model\n"
      ],
      "metadata": {
        "id": "J8bVNEq6OkHS"
      }
    },
    {
      "cell_type": "code",
      "source": [
        "loss, accuracy = model.evaluate(x_test, y_test)\n",
        "print(f\"Test Loss: {loss}, Test Accuracy: {accuracy}\")"
      ],
      "metadata": {
        "trusted": true,
        "colab": {
          "base_uri": "https://localhost:8080/"
        },
        "id": "ofLqfX4oLTVE",
        "outputId": "a0a6e5a4-cf52-4b2b-80d0-03ef11830888"
      },
      "execution_count": 6,
      "outputs": [
        {
          "output_type": "stream",
          "name": "stdout",
          "text": [
            "313/313 [==============================] - 33s 104ms/step - loss: 0.3090 - accuracy: 0.9032\n",
            "Test Loss: 0.3089883327484131, Test Accuracy: 0.9031999707221985\n"
          ]
        }
      ]
    }
  ]
}