{
  "cells": [
    {
      "cell_type": "markdown",
      "metadata": {
        "editable": true,
        "tags": [],
        "id": "K0XBBSCGb6TQ"
      },
      "source": [
        "import Libararies and set constant values"
      ]
    },
    {
      "cell_type": "code",
      "execution_count": 1,
      "metadata": {
        "id": "L1WtoaOHVrVh",
        "colab": {
          "base_uri": "https://localhost:8080/"
        },
        "outputId": "7eb7417e-2a06-43a6-a949-e76eadb24941"
      },
      "outputs": [
        {
          "output_type": "stream",
          "name": "stdout",
          "text": [
            "GPUs Available:  [PhysicalDevice(name='/physical_device:GPU:0', device_type='GPU')]\n"
          ]
        }
      ],
      "source": [
        "import matplotlib.pyplot as plt\n",
        "import numpy as np\n",
        "import PIL\n",
        "import tensorflow as tf\n",
        "\n",
        "from tensorflow import keras\n",
        "from tensorflow.keras import layers\n",
        "from tensorflow.keras.models import Sequential\n",
        "from tensorflow.python.framework.convert_to_constants import convert_variables_to_constants_v2\n",
        "import json\n",
        "import random\n",
        "import glob\n",
        "import math , cv2\n",
        "RANDOM_SEED_VAL = 42\n",
        "random.seed(RANDOM_SEED_VAL)\n",
        "tf.random.set_seed(RANDOM_SEED_VAL)\n",
        "np.random.seed(RANDOM_SEED_VAL)\n",
        "print(\"GPUs Available: \", tf.config.list_physical_devices('GPU'))\n"
      ]
    },
    {
      "cell_type": "markdown",
      "metadata": {
        "id": "8K9MCL_mb6TX"
      },
      "source": [
        "## Functions"
      ]
    },
    {
      "cell_type": "code",
      "execution_count": 2,
      "metadata": {
        "id": "AltQJF7Mb6TY"
      },
      "outputs": [],
      "source": [
        "def prepare(ds, shuffle=False, augment=False):\n",
        "    \"\"\"Prepares a TensorFlow dataset for image classification.\n",
        "\n",
        "    Resizes/rescales images, applies optional data augmentation, shuffles (optional),\n",
        "    and prefetches data. Requires `train_aug` and `val_aug` functions for augmentation.\n",
        "\n",
        "    Args:\n",
        "      ds: TensorFlow dataset.\n",
        "      shuffle: Shuffle data (default: False).\n",
        "      augment: Apply data augmentation (default: False).\n",
        "\n",
        "    Returns:\n",
        "       TensorFlow dataset.\n",
        "    \"\"\"\n",
        "    # Resize and rescale all datasets.\n",
        "    if augment:\n",
        "        ds = ds.map(lambda x, y: (train_aug(x, training=True), y),\n",
        "                      num_parallel_calls=AUTOTUNE)\n",
        "    else:\n",
        "        ds = ds.map(lambda x, y: (val_aug(x), y),\n",
        "                      num_parallel_calls=AUTOTUNE)\n",
        "\n",
        "    if shuffle:\n",
        "        ds = ds.shuffle(1000)\n",
        "\n",
        "      # Use buffered prefetching on all datasets.\n",
        "    return ds.prefetch(buffer_size=AUTOTUNE)\n",
        "\n",
        "\n",
        "def update_model_history(total_history ,history):\n",
        "    \"\"\"Updates a total model history dictionary with entries from a new history.\n",
        "\n",
        "    This function iterates through the keys (metrics) in the `history` dictionary,\n",
        "    which is assumed to contain training or evaluation metrics from a TensorFlow model.\n",
        "    For each metric:\n",
        "\n",
        "    1. It checks if the key exists in the `total_history.history` dictionary.\n",
        "     - If the key doesn't exist, it creates a new list for that metric in\n",
        "       `total_history.history`.\n",
        "    2. It appends the values of the metric from the `history` dictionary to the\n",
        "     corresponding list in `total_history.history`. This effectively accumulates\n",
        "     training or evaluation history across multiple training epochs.\n",
        "\n",
        "    Args:\n",
        "      total_history: Dictionary containing the accumulated model history (metrics).\n",
        "      history: Dictionary containing metrics from a single training or evaluation run.\n",
        "\n",
        "    Returns:\n",
        "      None (modifies the `total_history` dictionary in-place).\n",
        "    \"\"\"\n",
        "    # Iterate through metrics (keys) in the history\n",
        "    for key in history.history:\n",
        "        # Check if the metric exists in total history (and create an empty list if not)\n",
        "        if total_history.history.get(key) == None:\n",
        "            total_history.history.update({key:[]})\n",
        "        total_history.history[key] += history.history[key]\n",
        "\n",
        "def base_mode_finetune(model, tune_percentage):\n",
        "    \"\"\"Fine-tunes a specified percentage of layers at the end of the model's 'base_model'.\n",
        "\n",
        "    Args:\n",
        "        model: A TensorFlow model with a layer named 'base_model'.\n",
        "        tune_percentage: A float between 0 and 1, indicating the proportion of\n",
        "            layers in 'base_model' to fine-tune (e.g., 0.25 for fine-tuning 25%).\n",
        "\n",
        "    Returns:\n",
        "        The compiled model with specified layers fine-tuned.\n",
        "    \"\"\"\n",
        "\n",
        "    # Freeze all layers in the 'base_model' initially.\n",
        "    model.get_layer('base_model').trainable = False\n",
        "\n",
        "    # Calculate the number of layers to fine-tune.\n",
        "    num_layers = len(model.get_layer('base_model').layers)\n",
        "    num_layers_fine_tune = int(num_layers * tune_percentage)\n",
        "\n",
        "    # Unfreeze the specified number of layers from the end of 'base_model'.\n",
        "    for model_layer in model.get_layer('base_model').layers[-num_layers_fine_tune:]:\n",
        "        model_layer.trainable = True\n",
        "\n",
        "    print(f\"Trainable layers: {num_layers_fine_tune} of {num_layers} convolutional layers\")\n",
        "\n",
        "    # Compile the model with fine-tuned layers.\n",
        "    model.compile(optimizer=optimizer, loss=loss_fun, metrics=model_metrics)\n",
        "\n",
        "    return model\n",
        "\n",
        "def matric_plot(history, keys, labels, title):\n",
        "    \"\"\"\n",
        "    Plots metrics (loss, accuracy, etc.) from a TensorFlow training history.\n",
        "\n",
        "    This function creates a single subplot and plots the provided metrics (specified by their keys in the history object)\n",
        "    against their corresponding epochs. It also sets labels and a title for the plot.\n",
        "\n",
        "    Args:\n",
        "        history (tensorflow.keras.callbacks.History): The training history object obtained from training a model.\n",
        "        keys (list): A list of strings containing the names of the metrics to plot.\n",
        "                These keys should correspond to entries in the `history.history` dictionary.\n",
        "        labels (list): A list of strings containing labels for each metric line in the plot.\n",
        "                The length of this list should match the length of the `keys` list.\n",
        "        title (str): The title to display for the plot.\n",
        "    \"\"\"\n",
        "\n",
        "    plt.figure(figsize=(8, 2))  # Create a figure with specified size\n",
        "    plt.subplot(1, 1, 1)        # Create a single subplot within the figure\n",
        "\n",
        "    # Loop through metrics and plot them\n",
        "    for idx, key in enumerate(keys):\n",
        "        data_list = history.history[key]\n",
        "        plt.plot(range(len(data_list)), data_list, label=labels[idx])\n",
        "\n",
        "    # Add labels, title, and display the plot\n",
        "    plt.legend()\n",
        "    plt.title(title)\n",
        "    plt.show()\n"
      ]
    },
    {
      "cell_type": "markdown",
      "metadata": {
        "id": "UZZI6lNkVrVm"
      },
      "source": [
        "## The Dataset"
      ]
    },
    {
      "cell_type": "markdown",
      "metadata": {
        "id": "gIjgz7_JIo_m"
      },
      "source": [
        "### Load & Create The Dataset\n",
        "\n"
      ]
    },
    {
      "cell_type": "code",
      "source": [
        "\n",
        "from google.colab import drive\n",
        "drive.mount('/content/drive')\n"
      ],
      "metadata": {
        "colab": {
          "base_uri": "https://localhost:8080/"
        },
        "id": "YkmyHiWujZGL",
        "outputId": "506d38d5-47ea-438a-8181-469ec4413c3c"
      },
      "execution_count": 3,
      "outputs": [
        {
          "output_type": "stream",
          "name": "stdout",
          "text": [
            "Mounted at /content/drive\n"
          ]
        }
      ]
    },
    {
      "cell_type": "markdown",
      "metadata": {
        "id": "yq-3WkDQb6Ta"
      },
      "source": [
        "set the dataset loading pramters"
      ]
    },
    {
      "cell_type": "code",
      "execution_count": 6,
      "metadata": {
        "id": "H74l2DoDI2XD"
      },
      "outputs": [],
      "source": [
        "data_dir = \"/content/drive/MyDrive/images\"\n",
        "# data_dir = \"/content/drive/MyDrive/processed_data\"\n",
        "batch_size = 16\n",
        "img_size = (224 ,224)\n",
        "validation_split = .2"
      ]
    },
    {
      "cell_type": "markdown",
      "metadata": {
        "id": "pFBhRrrEI49z"
      },
      "source": [
        "It's good practice to use a validation split when developing your model. Use 80% of the images for training and 20% for validation."
      ]
    },
    {
      "cell_type": "code",
      "execution_count": 20,
      "metadata": {
        "colab": {
          "base_uri": "https://localhost:8080/"
        },
        "id": "fIR0kRZiI_AT",
        "outputId": "5b58d6dc-0ad4-400d-cfe6-60fb821900ac"
      },
      "outputs": [
        {
          "output_type": "stream",
          "name": "stdout",
          "text": [
            "Found 70 files belonging to 6 classes.\n",
            "Using 56 files for training.\n",
            "Found 70 files belonging to 6 classes.\n",
            "Using 14 files for validation.\n"
          ]
        }
      ],
      "source": [
        "train_ds = tf.keras.utils.image_dataset_from_directory(\n",
        "    data_dir,\n",
        "    validation_split = validation_split,\n",
        "    subset = \"training\",\n",
        "    seed = RANDOM_SEED_VAL,\n",
        "    image_size = img_size,\n",
        "    batch_size = batch_size )\n",
        "\n",
        "val_ds = tf.keras.utils.image_dataset_from_directory(\n",
        "    data_dir,\n",
        "    validation_split = validation_split,\n",
        "    subset=\"validation\",\n",
        "    seed = RANDOM_SEED_VAL,\n",
        "    image_size = img_size,\n",
        "    batch_size = batch_size)"
      ]
    },
    {
      "cell_type": "markdown",
      "metadata": {
        "id": "8GUnmPF4JvEf"
      },
      "source": [
        "## Standardize & augment  the data"
      ]
    },
    {
      "cell_type": "code",
      "execution_count": 21,
      "metadata": {
        "id": "23pIgsRoqzUZ",
        "scrolled": true
      },
      "outputs": [],
      "source": [
        "AUTOTUNE = tf.data.AUTOTUNE\n",
        "# Augmantions for training data\n",
        "train_aug = tf.keras.Sequential([\n",
        "    #layers.RandomRotation((-0.30,0.30)),\n",
        "    #layers.RandomZoom(height_factor= 0.2, fill_value =255 ),\n",
        "    #layers.RandomWidth(0.2),\n",
        "   # layers.Resizing(height=  img_size[0] , width= img_size[1]),\n",
        "    #layers.Rescaling(1./255),\n",
        "])\n",
        "# Augmantions for Val data\n",
        "val_aug = tf.keras.Sequential([\n",
        "    #layers.Resizing(height=  img_size[0] , width= img_size[1]),\n",
        "    #layers.Rescaling(1./255)\n",
        "])\n",
        "\n",
        "train_ds = prepare(train_ds, shuffle=True, augment=True)\n",
        "val_ds = prepare(val_ds)"
      ]
    },
    {
      "cell_type": "markdown",
      "metadata": {
        "id": "WcUTyDOPKucd"
      },
      "source": [
        "## The Model\n",
        "\n"
      ]
    },
    {
      "cell_type": "code",
      "execution_count": 22,
      "metadata": {
        "id": "9iRX71Qgb6Td"
      },
      "outputs": [],
      "source": [
        "num_classes = 6\n",
        "epochs = 20\n",
        "inatial_epochs =0\n",
        "base_learning_rate = 1e-3\n",
        "optimizer = tf.keras.optimizers.Adam(learning_rate=base_learning_rate)\n",
        "loss_fun = tf.keras.losses.SparseCategoricalCrossentropy(from_logits=True)\n",
        "model_metrics = ['accuracy'  ]\n",
        "total_history = keras.callbacks.History()\n",
        "\n",
        "#checkpoint_filepath = './checkpoint/best_model_{epoch:02d}_{val_accuracy:.2f}.hdf5'\n",
        "checkpoint_filepath = 'models/best_model.hdf5'\n",
        "model_checkpoint_callback = tf.keras.callbacks.ModelCheckpoint(\n",
        "    filepath=checkpoint_filepath,\n",
        "    save_weights_only=False,\n",
        "    monitor='val_accuracy',\n",
        "    mode='max',\n",
        "    save_best_only=True)"
      ]
    },
    {
      "cell_type": "code",
      "execution_count": 23,
      "metadata": {
        "colab": {
          "base_uri": "https://localhost:8080/"
        },
        "id": "QR6argA1K074",
        "outputId": "41cba947-9eba-47f9-920c-3a2b4195c65c",
        "scrolled": true
      },
      "outputs": [
        {
          "output_type": "stream",
          "name": "stdout",
          "text": [
            "Model: \"model_1\"\n",
            "_________________________________________________________________\n",
            " Layer (type)                Output Shape              Param #   \n",
            "=================================================================\n",
            " Input (InputLayer)          [(None, 224, 224, 3)]     0         \n",
            "                                                                 \n",
            " tf.__operators__.getitem_1  (None, 224, 224, 3)       0         \n",
            "  (SlicingOpLambda)                                              \n",
            "                                                                 \n",
            " tf.nn.bias_add_1 (TFOpLamb  (None, 224, 224, 3)       0         \n",
            " da)                                                             \n",
            "                                                                 \n",
            " base_model (Functional)     (None, None, None, 512)   14714688  \n",
            "                                                                 \n",
            " head_GAvgPool2D (GlobalAve  (None, 512)               0         \n",
            " ragePooling2D)                                                  \n",
            "                                                                 \n",
            " head_Dropout (Dropout)      (None, 512)               0         \n",
            "                                                                 \n",
            " Output (Dense)              (None, 6)                 3078      \n",
            "                                                                 \n",
            "=================================================================\n",
            "Total params: 14717766 (56.14 MB)\n",
            "Trainable params: 3078 (12.02 KB)\n",
            "Non-trainable params: 14714688 (56.13 MB)\n",
            "_________________________________________________________________\n"
          ]
        }
      ],
      "source": [
        "def make_model(base_model , preprocess):\n",
        "    img_size = (224 ,224)\n",
        "    base_model = base_model(\n",
        "                             # input_shape=(IMG_SIZE,IMG_SIZE,3,16) ,\n",
        "                              pooling=None,\n",
        "                             # include_preprocessing=True ,\n",
        "                              include_top= False,\n",
        "                              classes=num_classes,\n",
        "                              classifier_activation=None\n",
        "                              )\n",
        "    base_model.trainable = False\n",
        "    #base_model.summary()\n",
        "    base_model._name = \"base_model\"\n",
        "    inputs =  tf.keras.Input(shape=(img_size[0], img_size[1], 3),name='Input')\n",
        "    x = preprocess(inputs)\n",
        "    x = base_model(x, training=False)\n",
        "\n",
        "    x = tf.keras.layers.GlobalAveragePooling2D(name = 'head_GAvgPool2D') (x)\n",
        "    x = tf.keras.layers.Dropout(0.4 , name ='head_Dropout')(x)\n",
        "    outputs =  tf.keras.layers.Dense(num_classes ,name = 'Output')(x)\n",
        "    model = tf.keras.Model(inputs, outputs)\n",
        "    return  model\n",
        "\n",
        "model = make_model(tf.keras.applications.vgg16.VGG16 ,\n",
        "                  tf.keras.applications.vgg16.preprocess_input )\n",
        "model.summary()"
      ]
    },
    {
      "cell_type": "code",
      "execution_count": 24,
      "metadata": {
        "colab": {
          "base_uri": "https://localhost:8080/"
        },
        "id": "vAg0Skq7b6Te",
        "outputId": "88d267b0-428c-4341-8183-ed09d28885d6"
      },
      "outputs": [
        {
          "output_type": "stream",
          "name": "stdout",
          "text": [
            "base model layes 19\n"
          ]
        }
      ],
      "source": [
        "num_layers = len(model.get_layer('base_model').layers)\n",
        "print(f\"base model layes {num_layers}\")"
      ]
    },
    {
      "cell_type": "markdown",
      "metadata": {
        "id": "GKg0kEg7b6Tf"
      },
      "source": [
        "check model output shape"
      ]
    },
    {
      "cell_type": "code",
      "execution_count": 25,
      "metadata": {
        "colab": {
          "base_uri": "https://localhost:8080/"
        },
        "id": "RpBlGuz3yW7K",
        "outputId": "7cb1f822-486a-47d6-e3c8-bf154abdbba1"
      },
      "outputs": [
        {
          "output_type": "stream",
          "name": "stdout",
          "text": [
            "(14, 6)\n"
          ]
        }
      ],
      "source": [
        "image_batch, label_batch = next(iter(val_ds))\n",
        "feature_batch = model(image_batch)\n",
        "print(feature_batch.shape)"
      ]
    },
    {
      "cell_type": "markdown",
      "metadata": {
        "id": "EaKFzz72Lqpg"
      },
      "source": [
        "### Compile the model\n"
      ]
    },
    {
      "cell_type": "code",
      "execution_count": 26,
      "metadata": {
        "id": "jloGNS1MLx3A"
      },
      "outputs": [],
      "source": [
        "model.compile(optimizer = optimizer,\n",
        "              loss = loss_fun,\n",
        "              metrics = model_metrics )"
      ]
    },
    {
      "cell_type": "markdown",
      "metadata": {
        "id": "NiYHcbvaL9H-"
      },
      "source": [
        "### finetune the model"
      ]
    },
    {
      "cell_type": "code",
      "execution_count": 27,
      "metadata": {
        "colab": {
          "base_uri": "https://localhost:8080/"
        },
        "id": "5fWToCqYMErH",
        "outputId": "f9ff7c17-b16d-4f7a-afb9-5ee451665c42",
        "scrolled": true
      },
      "outputs": [
        {
          "output_type": "stream",
          "name": "stdout",
          "text": [
            "Epoch 1/20\n",
            "4/4 [==============================] - 15s 2s/step - loss: 15.2488 - accuracy: 0.1607 - val_loss: 15.0004 - val_accuracy: 0.1429\n",
            "Epoch 2/20\n",
            "4/4 [==============================] - 3s 245ms/step - loss: 13.5657 - accuracy: 0.1250 - val_loss: 11.3643 - val_accuracy: 0.1429\n",
            "Epoch 3/20\n",
            "4/4 [==============================] - 3s 308ms/step - loss: 9.9538 - accuracy: 0.2143 - val_loss: 9.1168 - val_accuracy: 0.2143\n",
            "Epoch 4/20\n",
            "4/4 [==============================] - 3s 585ms/step - loss: 9.0976 - accuracy: 0.2143 - val_loss: 7.7513 - val_accuracy: 0.2857\n",
            "Epoch 5/20\n",
            "4/4 [==============================] - 3s 256ms/step - loss: 8.1613 - accuracy: 0.2500 - val_loss: 6.6466 - val_accuracy: 0.2857\n",
            "Epoch 6/20\n",
            "4/4 [==============================] - 3s 301ms/step - loss: 7.9454 - accuracy: 0.2143 - val_loss: 5.6765 - val_accuracy: 0.3571\n",
            "Epoch 7/20\n",
            "4/4 [==============================] - 3s 321ms/step - loss: 5.1978 - accuracy: 0.3214 - val_loss: 4.9104 - val_accuracy: 0.4286\n",
            "Epoch 8/20\n",
            "4/4 [==============================] - 3s 365ms/step - loss: 6.4768 - accuracy: 0.3929 - val_loss: 4.1895 - val_accuracy: 0.4286\n",
            "Epoch 9/20\n",
            "4/4 [==============================] - 3s 256ms/step - loss: 3.8299 - accuracy: 0.5179 - val_loss: 3.4950 - val_accuracy: 0.4286\n",
            "Epoch 10/20\n",
            "4/4 [==============================] - 2s 261ms/step - loss: 3.2524 - accuracy: 0.5357 - val_loss: 2.8988 - val_accuracy: 0.4286\n",
            "Epoch 11/20\n",
            "4/4 [==============================] - 3s 309ms/step - loss: 3.5879 - accuracy: 0.5357 - val_loss: 2.4491 - val_accuracy: 0.5000\n",
            "Epoch 12/20\n",
            "4/4 [==============================] - 4s 361ms/step - loss: 1.9970 - accuracy: 0.5893 - val_loss: 2.0864 - val_accuracy: 0.5000\n",
            "Epoch 13/20\n",
            "4/4 [==============================] - 3s 332ms/step - loss: 2.9803 - accuracy: 0.5000 - val_loss: 1.7807 - val_accuracy: 0.5714\n",
            "Epoch 14/20\n",
            "4/4 [==============================] - 3s 305ms/step - loss: 2.6118 - accuracy: 0.6429 - val_loss: 1.5546 - val_accuracy: 0.7143\n",
            "Epoch 15/20\n",
            "4/4 [==============================] - 3s 265ms/step - loss: 2.2085 - accuracy: 0.6607 - val_loss: 1.4305 - val_accuracy: 0.7143\n",
            "Epoch 16/20\n",
            "4/4 [==============================] - 3s 276ms/step - loss: 2.8636 - accuracy: 0.6071 - val_loss: 1.2906 - val_accuracy: 0.7143\n",
            "Epoch 17/20\n",
            "4/4 [==============================] - 4s 272ms/step - loss: 1.8417 - accuracy: 0.7143 - val_loss: 1.1530 - val_accuracy: 0.7143\n",
            "Epoch 18/20\n",
            "4/4 [==============================] - 3s 305ms/step - loss: 3.0231 - accuracy: 0.6786 - val_loss: 1.0128 - val_accuracy: 0.8571\n",
            "Epoch 19/20\n",
            "4/4 [==============================] - 4s 301ms/step - loss: 1.1867 - accuracy: 0.7143 - val_loss: 0.8909 - val_accuracy: 0.9286\n",
            "Epoch 20/20\n",
            "4/4 [==============================] - 4s 672ms/step - loss: 1.9082 - accuracy: 0.7143 - val_loss: 0.8357 - val_accuracy: 0.9286\n"
          ]
        }
      ],
      "source": [
        "history = model.fit(\n",
        "        train_ds,\n",
        "        validation_data=val_ds,\n",
        "        epochs =  inatial_epochs +epochs ,\n",
        "        initial_epoch = inatial_epochs,\n",
        "         callbacks=[model_checkpoint_callback] )\n",
        "\n",
        "update_model_history(total_history ,history)\n",
        "inatial_epochs += epochs"
      ]
    },
    {
      "cell_type": "code",
      "execution_count": 28,
      "metadata": {
        "colab": {
          "base_uri": "https://localhost:8080/"
        },
        "id": "iaVC5l0ab6Th",
        "outputId": "e076049d-f399-4ca1-89c3-ca8c3fa67ec3"
      },
      "outputs": [
        {
          "output_type": "stream",
          "name": "stdout",
          "text": [
            "Trainable layers: 19 of 19 convolutional layers\n",
            "Epoch 21/40\n",
            "4/4 [==============================] - 4s 323ms/step - loss: 1.1255 - accuracy: 0.7679 - val_loss: 0.8335 - val_accuracy: 0.9286\n",
            "Epoch 22/40\n",
            "4/4 [==============================] - 3s 279ms/step - loss: 1.1875 - accuracy: 0.7857 - val_loss: 0.8250 - val_accuracy: 0.9286\n",
            "Epoch 23/40\n",
            "4/4 [==============================] - 4s 333ms/step - loss: 1.4587 - accuracy: 0.7500 - val_loss: 0.7902 - val_accuracy: 0.9286\n",
            "Epoch 24/40\n",
            "4/4 [==============================] - 2s 250ms/step - loss: 1.5650 - accuracy: 0.7321 - val_loss: 0.7506 - val_accuracy: 0.9286\n",
            "Epoch 25/40\n",
            "4/4 [==============================] - 2s 269ms/step - loss: 0.6875 - accuracy: 0.8036 - val_loss: 0.7169 - val_accuracy: 0.9286\n",
            "Epoch 26/40\n",
            "4/4 [==============================] - 2s 283ms/step - loss: 0.7412 - accuracy: 0.8750 - val_loss: 0.6853 - val_accuracy: 0.9286\n",
            "Epoch 27/40\n",
            "4/4 [==============================] - 3s 279ms/step - loss: 0.9449 - accuracy: 0.7857 - val_loss: 0.6653 - val_accuracy: 0.9286\n",
            "Epoch 28/40\n",
            "4/4 [==============================] - 4s 274ms/step - loss: 0.6929 - accuracy: 0.8750 - val_loss: 0.6597 - val_accuracy: 0.9286\n",
            "Epoch 29/40\n",
            "4/4 [==============================] - 2s 264ms/step - loss: 0.8049 - accuracy: 0.8214 - val_loss: 0.6980 - val_accuracy: 0.9286\n",
            "Epoch 30/40\n",
            "4/4 [==============================] - 2s 264ms/step - loss: 0.8086 - accuracy: 0.8393 - val_loss: 0.7509 - val_accuracy: 0.9286\n",
            "Epoch 31/40\n",
            "4/4 [==============================] - 2s 262ms/step - loss: 0.5003 - accuracy: 0.8750 - val_loss: 0.7849 - val_accuracy: 0.9286\n",
            "Epoch 32/40\n",
            "4/4 [==============================] - 3s 508ms/step - loss: 0.6221 - accuracy: 0.8750 - val_loss: 0.7768 - val_accuracy: 0.9286\n",
            "Epoch 33/40\n",
            "4/4 [==============================] - 2s 259ms/step - loss: 0.9679 - accuracy: 0.7679 - val_loss: 0.7722 - val_accuracy: 0.9286\n",
            "Epoch 34/40\n",
            "4/4 [==============================] - 2s 265ms/step - loss: 0.4836 - accuracy: 0.8571 - val_loss: 0.7501 - val_accuracy: 0.9286\n",
            "Epoch 35/40\n",
            "4/4 [==============================] - 2s 248ms/step - loss: 0.7861 - accuracy: 0.7857 - val_loss: 0.7437 - val_accuracy: 0.9286\n",
            "Epoch 36/40\n",
            "4/4 [==============================] - 3s 374ms/step - loss: 0.3153 - accuracy: 0.9107 - val_loss: 0.7643 - val_accuracy: 0.9286\n",
            "Epoch 37/40\n",
            "4/4 [==============================] - 3s 257ms/step - loss: 0.5466 - accuracy: 0.8393 - val_loss: 0.7694 - val_accuracy: 0.9286\n",
            "Epoch 38/40\n",
            "4/4 [==============================] - 2s 246ms/step - loss: 0.7853 - accuracy: 0.8750 - val_loss: 0.7893 - val_accuracy: 0.9286\n",
            "Epoch 39/40\n",
            "4/4 [==============================] - 2s 266ms/step - loss: 0.7635 - accuracy: 0.8393 - val_loss: 0.8126 - val_accuracy: 0.9286\n",
            "Epoch 40/40\n",
            "4/4 [==============================] - 2s 256ms/step - loss: 0.6442 - accuracy: 0.8929 - val_loss: 0.8262 - val_accuracy: 0.9286\n"
          ]
        }
      ],
      "source": [
        "\n",
        "epochs=20\n",
        "base_learning_rate = 7e-5\n",
        "tune_percentage = 1\n",
        "\n",
        "\n",
        "base_mode_finetune(model ,tune_percentage )\n",
        "\n",
        "history = model.fit(\n",
        "        train_ds,\n",
        "        validation_data=val_ds,\n",
        "        epochs =  inatial_epochs +epochs ,\n",
        "        initial_epoch = inatial_epochs,\n",
        "        callbacks=[model_checkpoint_callback]\n",
        ")\n",
        "\n",
        "update_model_history(total_history ,history)\n",
        "inatial_epochs += epochs\n"
      ]
    },
    {
      "cell_type": "code",
      "execution_count": 29,
      "metadata": {
        "colab": {
          "base_uri": "https://localhost:8080/"
        },
        "id": "H-nMtBzDb6Th",
        "outputId": "0db18578-cedd-47e5-d716-6fd251e199c1"
      },
      "outputs": [
        {
          "output_type": "stream",
          "name": "stdout",
          "text": [
            "Max val Accuracy :0.9285714030265808\n"
          ]
        }
      ],
      "source": [
        "print(f'Max val Accuracy :{max(total_history.history[\"val_accuracy\"])}')"
      ]
    },
    {
      "cell_type": "markdown",
      "metadata": {
        "id": "SyFKdQpXMJT4"
      },
      "source": [
        "## Visualize training results"
      ]
    },
    {
      "cell_type": "markdown",
      "metadata": {
        "id": "dFvOvmAmMK9w"
      },
      "source": [
        "Create plots of the loss and accuracy on the training and validation sets:"
      ]
    },
    {
      "cell_type": "code",
      "execution_count": 30,
      "metadata": {
        "id": "jWnopEChMMCn",
        "colab": {
          "base_uri": "https://localhost:8080/",
          "height": 457
        },
        "outputId": "5f640639-94f9-48fc-edf0-30e8f84e28b0"
      },
      "outputs": [
        {
          "output_type": "display_data",
          "data": {
            "text/plain": [
              "<Figure size 800x200 with 1 Axes>"
            ],
            "image/png": "[encoded data removed]"
          },
          "metadata": {}
        },
        {
          "output_type": "display_data",
          "data": {
            "text/plain": [
              "<Figure size 800x200 with 1 Axes>"
            ],
            "image/png": "[encoded data removed]"
          },
          "metadata": {}
        }
      ],
      "source": [
        "matric_plot(total_history,[ 'accuracy', 'val_accuracy'] , ['Training Accuracy' ,'Validation Accuracy' ], 'Training and Validation Accuracy' )\n",
        "matric_plot(total_history,[ 'loss', 'val_loss'] , ['Training Loss' ,'Validation Loss' ], 'Training and Validation Loss' )"
      ]
    },
    {
      "cell_type": "code",
      "execution_count": 30,
      "metadata": {
        "id": "gsXk1eVZb6Ti"
      },
      "outputs": [],
      "source": []
    }
  ],
  "metadata": {
    "accelerator": "GPU",
    "colab": {
      "gpuType": "T4",
      "provenance": []
    },
    "kernelspec": {
      "display_name": "Python [conda env:tf]",
      "language": "python",
      "name": "conda-env-tf-py"
    },
    "language_info": {
      "codemirror_mode": {
        "name": "ipython",
        "version": 3
      },
      "file_extension": ".py",
      "mimetype": "text/x-python",
      "name": "python",
      "nbconvert_exporter": "python",
      "pygments_lexer": "ipython3",
      "version": "3.9.18"
    }
  },
  "nbformat": 4,
  "nbformat_minor": 0
}